{
 "cells": [
  {
   "cell_type": "markdown",
   "id": "f3f2a2cf",
   "metadata": {},
   "source": [
    "# Handwritten Digit Recognition using FCFNN\n",
    "## Task: \n",
    "1. **Dataset Preparation:**\n",
    "\n",
    "   * Collect English handwritten digit samples (0–9) from multiple individuals.\n",
    "   * Preprocess the images (grayscale, resize to 28×28 pixels, normalize).\n",
    "   * Split the dataset into a **training set** and a **test set**.\n",
    "   * Save the dataset in a convenient format (e.g., `.npz`).\n",
    "\n",
    "2. **Model Training:**\n",
    "\n",
    "   * Define a **Fully Connected Feedforward Neural Network (FCFNN)**.\n",
    "   * Retrain the FCFNN using **both your handwritten training set and the MNIST training set**.\n",
    "\n",
    "3. **Model Evaluation:**\n",
    "\n",
    "   * Evaluate the trained FCFNN on your **handwritten test set**.\n",
    "   * Evaluate the trained FCFNN on the **MNIST test set**.\n",
    "   * Compare the performance on both datasets.\n",
    "\n",
    "---"
   ]
  },
  {
   "cell_type": "markdown",
   "id": "af07b3e6",
   "metadata": {},
   "source": [
    "\n",
    "##  Collect handwritten digit dataset\n",
    "\n",
    "1. Take blank sheets and ask (friends/classmates) to write digits **0–9** multiple times (e.g., 20–30 samples each).\n",
    "2. Scan or photograph the sheets.\n",
    "3. Preprocess:\n",
    "\n",
    "   * Convert to grayscale.\n",
    "   * Apply thresholding (binarization).\n",
    "   * Resize each digit to **28×28 pixels** (to match MNIST).\n",
    "   * Normalize pixel values between **0 and 1**.\n",
    "\n",
    "👉 Saving PNG files inside folders like:\n",
    "\n",
    "```\n",
    "custom_dataset/\n",
    "  train/\n",
    "    0/\n",
    "    1/\n",
    "    ...\n",
    "    9/\n",
    "  test/\n",
    "    0/\n",
    "    1/\n",
    "    ...\n",
    "    9/\n",
    "```"
   ]
  },
  {
   "cell_type": "markdown",
   "id": "e3ea90ff",
   "metadata": {},
   "source": [
    "## Making 28*28 png images from collect data"
   ]
  },
  {
   "cell_type": "code",
   "execution_count": 3,
   "id": "da9ffd8e",
   "metadata": {},
   "outputs": [
    {
     "name": "stdout",
     "output_type": "stream",
     "text": [
      "✅ Done! Extracted 121 digits into digits_28x28 and zipped into digits_28x28.zip\n"
     ]
    }
   ],
   "source": [
    "import cv2\n",
    "import numpy as np\n",
    "from PIL import Image\n",
    "import os\n",
    "import zipfile\n",
    "\n",
    "# ========= CONFIG =========\n",
    "INPUT_IMAGE = \"digits_sheet.JPG\"   # <-- replace with your file name\n",
    "OUTPUT_DIR = \"digits_28x28\"\n",
    "ZIP_NAME = \"digits_28x28.zip\"\n",
    "# ==========================\n",
    "\n",
    "# Create output directory\n",
    "os.makedirs(OUTPUT_DIR, exist_ok=True)\n",
    "\n",
    "# Load image in grayscale\n",
    "img = cv2.imread(INPUT_IMAGE, cv2.IMREAD_GRAYSCALE)\n",
    "\n",
    "# Threshold (black digits on white background)\n",
    "_, thresh = cv2.threshold(img, 128, 255, cv2.THRESH_BINARY_INV)\n",
    "\n",
    "# Find contours (digits)\n",
    "contours, _ = cv2.findContours(thresh, cv2.RETR_EXTERNAL, cv2.CHAIN_APPROX_SIMPLE)\n",
    "\n",
    "# Sort contours row by row, left to right\n",
    "contours = sorted(contours, key=lambda c: (cv2.boundingRect(c)[1]//50, cv2.boundingRect(c)[0]))\n",
    "\n",
    "idx = 0\n",
    "for c in contours:\n",
    "    x, y, w, h = cv2.boundingRect(c)\n",
    "    \n",
    "    # Skip tiny noise\n",
    "    if w < 5 or h < 5:\n",
    "        continue\n",
    "    \n",
    "    digit = thresh[y:y+h, x:x+w]\n",
    "\n",
    "    # Resize digit to 20x20\n",
    "    digit_resized = cv2.resize(digit, (20, 20), interpolation=cv2.INTER_AREA)\n",
    "    \n",
    "    # Pad to 28x28\n",
    "    padded = np.pad(digit_resized, ((4,4),(4,4)), \"constant\", constant_values=0)\n",
    "    \n",
    "    # Save each digit\n",
    "    out_path = os.path.join(OUTPUT_DIR, f\"digit_{idx:03d}.png\")\n",
    "    Image.fromarray(padded).save(out_path)\n",
    "    idx += 1\n",
    "\n",
    "# Create ZIP file\n",
    "with zipfile.ZipFile(ZIP_NAME, 'w') as zipf:\n",
    "    for file in os.listdir(OUTPUT_DIR):\n",
    "        zipf.write(os.path.join(OUTPUT_DIR, file), file)\n",
    "\n",
    "print(f\"✅ Done! Extracted {idx} digits into {OUTPUT_DIR} and zipped into {ZIP_NAME}\")\n"
   ]
  },
  {
   "cell_type": "code",
   "execution_count": 4,
   "id": "fd4f15ca",
   "metadata": {},
   "outputs": [
    {
     "name": "stdout",
     "output_type": "stream",
     "text": [
      "--2025-09-06 20:30:19--  https://storage.googleapis.com/tensorflow/tf-keras-datasets/mnist.npz\n",
      "Resolving storage.googleapis.com (storage.googleapis.com)... 142.251.223.219, 142.250.193.59, 142.250.194.59, ...\n",
      "Connecting to storage.googleapis.com (storage.googleapis.com)|142.251.223.219|:443... connected.\n",
      "HTTP request sent, awaiting response... 200 OK\n",
      "Length: 11490434 (11M) [application/octet-stream]\n",
      "Saving to: ‘mnist.npz.2’\n",
      "\n",
      "mnist.npz.2         100%[===================>]  10.96M   955KB/s    in 20s     \n",
      "\n",
      "2025-09-06 20:30:38 (554 KB/s) - ‘mnist.npz.2’ saved [11490434/11490434]\n",
      "\n"
     ]
    }
   ],
   "source": [
    "# Download mnist.npz dataset\n",
    "\n",
    "! wget https://storage.googleapis.com/tensorflow/tf-keras-datasets/mnist.npz\n"
   ]
  },
  {
   "cell_type": "markdown",
   "id": "fdf6c52f",
   "metadata": {},
   "source": [
    "## Making custom_digits.npz dataset from (mnist.npz+handwritten image)\n",
    "Ah! You want to **Create a new `.npz` dataset** that combines MNIST (`mnist.npz`) with  own **handwritten images**.\n",
    "\n",
    "---\n",
    "* Each image should have a **label** (0–9).\n",
    "* Images can be in a folder structure like:\n",
    "\n",
    "```\n",
    "custom_digits/\n",
    "   0/\n",
    "     img1.png\n",
    "     img2.png\n",
    "   1/\n",
    "     ...\n",
    "```\n",
    "\n",
    "\n",
    "\n",
    "---\n",
    "\n",
    "### 3️⃣ Notes\n",
    "\n",
    "1. **Image format**: The handwritten images are resized to **28×28** and converted to grayscale.\n",
    "2. **Labels**: Folder names must be numeric (0–9).\n",
    "3. **Saving**: Using `np.savez_compressed` to reduce file size.\n",
    "4. **Result**: `custom_mnist.npz`\n",
    "\n",
    "```"
   ]
  },
  {
   "cell_type": "code",
   "execution_count": 10,
   "id": "da56288c",
   "metadata": {},
   "outputs": [
    {
     "name": "stdout",
     "output_type": "stream",
     "text": [
      "Mnist.npz loaded!\n",
      "Train set: (60000, 28, 28)\n",
      "Test set: (10000, 28, 28)\n",
      "✅ After Combining custom_mnist.npz created!\n",
      "Train set: (61484, 28, 28)\n",
      "Test set: (12405, 28, 28)\n"
     ]
    }
   ],
   "source": [
    "import numpy as np\n",
    "import os\n",
    "from PIL import Image\n",
    "\n",
    "# Load MNIST\n",
    "mnist = np.load(\"mnist.npz\")\n",
    "x_train_mnist, y_train_mnist = mnist[\"x_train\"], mnist[\"y_train\"]\n",
    "x_test_mnist, y_test_mnist = mnist[\"x_test\"], mnist[\"y_test\"]\n",
    "print(\"Mnist.npz loaded!\")\n",
    "print(\"Train set:\", x_train.shape)\n",
    "print(\"Test set:\", x_test.shape)\n",
    "\n",
    "# Function to load images from a folder structure like train/0, train/1, ..., test/0, etc.\n",
    "def load_images_from_folder(base_dir):\n",
    "    images, labels = [], []\n",
    "    for label in sorted(os.listdir(base_dir)):\n",
    "        label_dir = os.path.join(base_dir, label)\n",
    "        if not os.path.isdir(label_dir):\n",
    "            continue\n",
    "        for file in os.listdir(label_dir):\n",
    "            if file.endswith((\".png\", \".jpg\", \".jpeg\")):\n",
    "                img_path = os.path.join(label_dir, file)\n",
    "                img = Image.open(img_path).convert(\"L\")  # grayscale\n",
    "                img = img.resize((28,28))  # match MNIST size\n",
    "                img_array = np.array(img, dtype=np.uint8)\n",
    "                images.append(img_array)\n",
    "                labels.append(int(label))\n",
    "    return np.array(images, dtype=np.uint8), np.array(labels, dtype=np.uint8)\n",
    "\n",
    "# Load custom train images\n",
    "custom_train_dir = \"custom_dataset/train\"\n",
    "x_train_custom, y_train_custom = load_images_from_folder(custom_train_dir)\n",
    "\n",
    "# Load custom test images\n",
    "custom_test_dir = \"custom_dataset/test\"\n",
    "x_test_custom, y_test_custom = load_images_from_folder(custom_test_dir)\n",
    "\n",
    "# Combine MNIST and custom images\n",
    "x_train_combined = np.concatenate([x_train_mnist, x_train_custom], axis=0)\n",
    "y_train_combined = np.concatenate([y_train_mnist, y_train_custom], axis=0)\n",
    "x_test_combined = np.concatenate([x_test_mnist, x_test_custom], axis=0)\n",
    "y_test_combined = np.concatenate([y_test_mnist, y_test_custom], axis=0)\n",
    "\n",
    "# Save as new npz\n",
    "np.savez_compressed(\n",
    "    \"custom_mnist.npz\",\n",
    "    x_train=x_train_combined,\n",
    "    y_train=y_train_combined,\n",
    "    x_test=x_test_combined,\n",
    "    y_test=y_test_combined\n",
    ")\n",
    "\n",
    "print(\"✅ After Combining custom_mnist.npz created!\")\n",
    "print(\"Train set:\", x_train_combined.shape)\n",
    "print(\"Test set:\", x_test_combined.shape)\n"
   ]
  },
  {
   "cell_type": "markdown",
   "id": "92c702c7",
   "metadata": {},
   "source": [
    "## Import Section"
   ]
  },
  {
   "cell_type": "code",
   "execution_count": 11,
   "id": "74964df0",
   "metadata": {},
   "outputs": [
    {
     "name": "stderr",
     "output_type": "stream",
     "text": [
      "2025-09-06 20:35:24.237949: I external/local_xla/xla/tsl/cuda/cudart_stub.cc:31] Could not find cuda drivers on your machine, GPU will not be used.\n",
      "2025-09-06 20:35:24.931408: I tensorflow/core/platform/cpu_feature_guard.cc:210] This TensorFlow binary is optimized to use available CPU instructions in performance-critical operations.\n",
      "To enable the following instructions: AVX2 FMA, in other operations, rebuild TensorFlow with the appropriate compiler flags.\n",
      "2025-09-06 20:35:27.887714: I external/local_xla/xla/tsl/cuda/cudart_stub.cc:31] Could not find cuda drivers on your machine, GPU will not be used.\n"
     ]
    }
   ],
   "source": [
    "import numpy as np\n",
    "import matplotlib.pyplot as plt\n",
    "import tensorflow as tf\n",
    "from tensorflow import keras\n",
    "from tensorflow.keras.layers import Dense, Flatten, Input\n",
    "from tensorflow.keras.models import Model\n",
    "from sklearn.preprocessing import LabelEncoder"
   ]
  },
  {
   "cell_type": "markdown",
   "id": "34ae54ae",
   "metadata": {},
   "source": [
    "## Load Dataset"
   ]
  },
  {
   "cell_type": "code",
   "execution_count": 12,
   "id": "d8e872a4",
   "metadata": {},
   "outputs": [
    {
     "name": "stdout",
     "output_type": "stream",
     "text": [
      "(61484, 28, 28)\n"
     ]
    }
   ],
   "source": [
    "data    = np.load(\"custom_mnist.npz\")\n",
    "X_train = data['x_train']\n",
    "X_test = data['x_test']\n",
    "y_train = data['y_train']\n",
    "y_test = data['y_test']\n",
    "print( X_train.shape) "
   ]
  },
  {
   "cell_type": "markdown",
   "id": "31359171",
   "metadata": {},
   "source": [
    "## FCFNN Neural Network Design\n",
    "\n"
   ]
  },
  {
   "cell_type": "code",
   "execution_count": 16,
   "id": "4a895909",
   "metadata": {},
   "outputs": [
    {
     "data": {
      "text/html": [
       "<pre style=\"white-space:pre;overflow-x:auto;line-height:normal;font-family:Menlo,'DejaVu Sans Mono',consolas,'Courier New',monospace\"><span style=\"font-weight: bold\">Model: \"functional_2\"</span>\n",
       "</pre>\n"
      ],
      "text/plain": [
       "\u001b[1mModel: \"functional_2\"\u001b[0m\n"
      ]
     },
     "metadata": {},
     "output_type": "display_data"
    },
    {
     "data": {
      "text/html": [
       "<pre style=\"white-space:pre;overflow-x:auto;line-height:normal;font-family:Menlo,'DejaVu Sans Mono',consolas,'Courier New',monospace\">┏━━━━━━━━━━━━━━━━━━━━━━━━━━━━━━━━━┳━━━━━━━━━━━━━━━━━━━━━━━━┳━━━━━━━━━━━━━━━┓\n",
       "┃<span style=\"font-weight: bold\"> Layer (type)                    </span>┃<span style=\"font-weight: bold\"> Output Shape           </span>┃<span style=\"font-weight: bold\">       Param # </span>┃\n",
       "┡━━━━━━━━━━━━━━━━━━━━━━━━━━━━━━━━━╇━━━━━━━━━━━━━━━━━━━━━━━━╇━━━━━━━━━━━━━━━┩\n",
       "│ input_layer_2 (<span style=\"color: #0087ff; text-decoration-color: #0087ff\">InputLayer</span>)      │ (<span style=\"color: #00d7ff; text-decoration-color: #00d7ff\">None</span>, <span style=\"color: #00af00; text-decoration-color: #00af00\">28</span>, <span style=\"color: #00af00; text-decoration-color: #00af00\">28</span>)         │             <span style=\"color: #00af00; text-decoration-color: #00af00\">0</span> │\n",
       "├─────────────────────────────────┼────────────────────────┼───────────────┤\n",
       "│ flatten_2 (<span style=\"color: #0087ff; text-decoration-color: #0087ff\">Flatten</span>)             │ (<span style=\"color: #00d7ff; text-decoration-color: #00d7ff\">None</span>, <span style=\"color: #00af00; text-decoration-color: #00af00\">784</span>)            │             <span style=\"color: #00af00; text-decoration-color: #00af00\">0</span> │\n",
       "├─────────────────────────────────┼────────────────────────┼───────────────┤\n",
       "│ dense_11 (<span style=\"color: #0087ff; text-decoration-color: #0087ff\">Dense</span>)                │ (<span style=\"color: #00d7ff; text-decoration-color: #00d7ff\">None</span>, <span style=\"color: #00af00; text-decoration-color: #00af00\">128</span>)            │       <span style=\"color: #00af00; text-decoration-color: #00af00\">100,480</span> │\n",
       "├─────────────────────────────────┼────────────────────────┼───────────────┤\n",
       "│ dense_12 (<span style=\"color: #0087ff; text-decoration-color: #0087ff\">Dense</span>)                │ (<span style=\"color: #00d7ff; text-decoration-color: #00d7ff\">None</span>, <span style=\"color: #00af00; text-decoration-color: #00af00\">256</span>)            │        <span style=\"color: #00af00; text-decoration-color: #00af00\">33,024</span> │\n",
       "├─────────────────────────────────┼────────────────────────┼───────────────┤\n",
       "│ dense_13 (<span style=\"color: #0087ff; text-decoration-color: #0087ff\">Dense</span>)                │ (<span style=\"color: #00d7ff; text-decoration-color: #00d7ff\">None</span>, <span style=\"color: #00af00; text-decoration-color: #00af00\">128</span>)            │        <span style=\"color: #00af00; text-decoration-color: #00af00\">32,896</span> │\n",
       "├─────────────────────────────────┼────────────────────────┼───────────────┤\n",
       "│ dense_14 (<span style=\"color: #0087ff; text-decoration-color: #0087ff\">Dense</span>)                │ (<span style=\"color: #00d7ff; text-decoration-color: #00d7ff\">None</span>, <span style=\"color: #00af00; text-decoration-color: #00af00\">64</span>)             │         <span style=\"color: #00af00; text-decoration-color: #00af00\">8,256</span> │\n",
       "├─────────────────────────────────┼────────────────────────┼───────────────┤\n",
       "│ dense_15 (<span style=\"color: #0087ff; text-decoration-color: #0087ff\">Dense</span>)                │ (<span style=\"color: #00d7ff; text-decoration-color: #00d7ff\">None</span>, <span style=\"color: #00af00; text-decoration-color: #00af00\">32</span>)             │         <span style=\"color: #00af00; text-decoration-color: #00af00\">2,080</span> │\n",
       "├─────────────────────────────────┼────────────────────────┼───────────────┤\n",
       "│ dense_16 (<span style=\"color: #0087ff; text-decoration-color: #0087ff\">Dense</span>)                │ (<span style=\"color: #00d7ff; text-decoration-color: #00d7ff\">None</span>, <span style=\"color: #00af00; text-decoration-color: #00af00\">10</span>)             │           <span style=\"color: #00af00; text-decoration-color: #00af00\">330</span> │\n",
       "└─────────────────────────────────┴────────────────────────┴───────────────┘\n",
       "</pre>\n"
      ],
      "text/plain": [
       "┏━━━━━━━━━━━━━━━━━━━━━━━━━━━━━━━━━┳━━━━━━━━━━━━━━━━━━━━━━━━┳━━━━━━━━━━━━━━━┓\n",
       "┃\u001b[1m \u001b[0m\u001b[1mLayer (type)                   \u001b[0m\u001b[1m \u001b[0m┃\u001b[1m \u001b[0m\u001b[1mOutput Shape          \u001b[0m\u001b[1m \u001b[0m┃\u001b[1m \u001b[0m\u001b[1m      Param #\u001b[0m\u001b[1m \u001b[0m┃\n",
       "┡━━━━━━━━━━━━━━━━━━━━━━━━━━━━━━━━━╇━━━━━━━━━━━━━━━━━━━━━━━━╇━━━━━━━━━━━━━━━┩\n",
       "│ input_layer_2 (\u001b[38;5;33mInputLayer\u001b[0m)      │ (\u001b[38;5;45mNone\u001b[0m, \u001b[38;5;34m28\u001b[0m, \u001b[38;5;34m28\u001b[0m)         │             \u001b[38;5;34m0\u001b[0m │\n",
       "├─────────────────────────────────┼────────────────────────┼───────────────┤\n",
       "│ flatten_2 (\u001b[38;5;33mFlatten\u001b[0m)             │ (\u001b[38;5;45mNone\u001b[0m, \u001b[38;5;34m784\u001b[0m)            │             \u001b[38;5;34m0\u001b[0m │\n",
       "├─────────────────────────────────┼────────────────────────┼───────────────┤\n",
       "│ dense_11 (\u001b[38;5;33mDense\u001b[0m)                │ (\u001b[38;5;45mNone\u001b[0m, \u001b[38;5;34m128\u001b[0m)            │       \u001b[38;5;34m100,480\u001b[0m │\n",
       "├─────────────────────────────────┼────────────────────────┼───────────────┤\n",
       "│ dense_12 (\u001b[38;5;33mDense\u001b[0m)                │ (\u001b[38;5;45mNone\u001b[0m, \u001b[38;5;34m256\u001b[0m)            │        \u001b[38;5;34m33,024\u001b[0m │\n",
       "├─────────────────────────────────┼────────────────────────┼───────────────┤\n",
       "│ dense_13 (\u001b[38;5;33mDense\u001b[0m)                │ (\u001b[38;5;45mNone\u001b[0m, \u001b[38;5;34m128\u001b[0m)            │        \u001b[38;5;34m32,896\u001b[0m │\n",
       "├─────────────────────────────────┼────────────────────────┼───────────────┤\n",
       "│ dense_14 (\u001b[38;5;33mDense\u001b[0m)                │ (\u001b[38;5;45mNone\u001b[0m, \u001b[38;5;34m64\u001b[0m)             │         \u001b[38;5;34m8,256\u001b[0m │\n",
       "├─────────────────────────────────┼────────────────────────┼───────────────┤\n",
       "│ dense_15 (\u001b[38;5;33mDense\u001b[0m)                │ (\u001b[38;5;45mNone\u001b[0m, \u001b[38;5;34m32\u001b[0m)             │         \u001b[38;5;34m2,080\u001b[0m │\n",
       "├─────────────────────────────────┼────────────────────────┼───────────────┤\n",
       "│ dense_16 (\u001b[38;5;33mDense\u001b[0m)                │ (\u001b[38;5;45mNone\u001b[0m, \u001b[38;5;34m10\u001b[0m)             │           \u001b[38;5;34m330\u001b[0m │\n",
       "└─────────────────────────────────┴────────────────────────┴───────────────┘\n"
      ]
     },
     "metadata": {},
     "output_type": "display_data"
    },
    {
     "data": {
      "text/html": [
       "<pre style=\"white-space:pre;overflow-x:auto;line-height:normal;font-family:Menlo,'DejaVu Sans Mono',consolas,'Courier New',monospace\"><span style=\"font-weight: bold\"> Total params: </span><span style=\"color: #00af00; text-decoration-color: #00af00\">177,066</span> (691.66 KB)\n",
       "</pre>\n"
      ],
      "text/plain": [
       "\u001b[1m Total params: \u001b[0m\u001b[38;5;34m177,066\u001b[0m (691.66 KB)\n"
      ]
     },
     "metadata": {},
     "output_type": "display_data"
    },
    {
     "data": {
      "text/html": [
       "<pre style=\"white-space:pre;overflow-x:auto;line-height:normal;font-family:Menlo,'DejaVu Sans Mono',consolas,'Courier New',monospace\"><span style=\"font-weight: bold\"> Trainable params: </span><span style=\"color: #00af00; text-decoration-color: #00af00\">177,066</span> (691.66 KB)\n",
       "</pre>\n"
      ],
      "text/plain": [
       "\u001b[1m Trainable params: \u001b[0m\u001b[38;5;34m177,066\u001b[0m (691.66 KB)\n"
      ]
     },
     "metadata": {},
     "output_type": "display_data"
    },
    {
     "data": {
      "text/html": [
       "<pre style=\"white-space:pre;overflow-x:auto;line-height:normal;font-family:Menlo,'DejaVu Sans Mono',consolas,'Courier New',monospace\"><span style=\"font-weight: bold\"> Non-trainable params: </span><span style=\"color: #00af00; text-decoration-color: #00af00\">0</span> (0.00 B)\n",
       "</pre>\n"
      ],
      "text/plain": [
       "\u001b[1m Non-trainable params: \u001b[0m\u001b[38;5;34m0\u001b[0m (0.00 B)\n"
      ]
     },
     "metadata": {},
     "output_type": "display_data"
    }
   ],
   "source": [
    "inputs = Input((28,28))\n",
    "x = Flatten()(inputs)\n",
    "x1 = Dense(128, activation=\"relu\")(x)\n",
    "x2 = Dense(256, activation=\"relu\")(x1)\n",
    "x3 = Dense(128,  activation=\"relu\")(x2)\n",
    "x4 = Dense(64,  activation=\"relu\")(x3)\n",
    "x5 = Dense(32,  activation=\"relu\")(x4)\n",
    "outputs = Dense(10, activation=\"softmax\")(x5)\n",
    "model = Model(inputs, outputs)\n",
    "\n",
    "# Print model summary\n",
    "model.summary()"
   ]
  },
  {
   "cell_type": "markdown",
   "id": "366a663f",
   "metadata": {},
   "source": [
    "## Compile Model"
   ]
  },
  {
   "cell_type": "code",
   "execution_count": 18,
   "id": "731cf6c5",
   "metadata": {},
   "outputs": [],
   "source": [
    "model.compile(\n",
    "    optimizer=\"adam\",\n",
    "    loss=\"sparse_categorical_crossentropy\",\n",
    "    metrics=[\"accuracy\"]\n",
    ")"
   ]
  },
  {
   "cell_type": "markdown",
   "id": "f5de7993",
   "metadata": {},
   "source": [
    "## Model fitting"
   ]
  },
  {
   "cell_type": "code",
   "execution_count": 21,
   "id": "52e20e71",
   "metadata": {},
   "outputs": [
    {
     "name": "stdout",
     "output_type": "stream",
     "text": [
      "Epoch 1/20\n",
      "\u001b[1m1922/1922\u001b[0m \u001b[32m━━━━━━━━━━━━━━━━━━━━\u001b[0m\u001b[37m\u001b[0m \u001b[1m6s\u001b[0m 3ms/step - accuracy: 0.9819 - loss: 0.0707 - val_accuracy: 0.8896 - val_loss: 0.4845\n",
      "Epoch 2/20\n",
      "\u001b[1m1922/1922\u001b[0m \u001b[32m━━━━━━━━━━━━━━━━━━━━\u001b[0m\u001b[37m\u001b[0m \u001b[1m8s\u001b[0m 4ms/step - accuracy: 0.9851 - loss: 0.0531 - val_accuracy: 0.8900 - val_loss: 0.4887\n",
      "Epoch 3/20\n",
      "\u001b[1m1922/1922\u001b[0m \u001b[32m━━━━━━━━━━━━━━━━━━━━\u001b[0m\u001b[37m\u001b[0m \u001b[1m9s\u001b[0m 4ms/step - accuracy: 0.9869 - loss: 0.0486 - val_accuracy: 0.8942 - val_loss: 0.4784\n",
      "Epoch 4/20\n",
      "\u001b[1m1922/1922\u001b[0m \u001b[32m━━━━━━━━━━━━━━━━━━━━\u001b[0m\u001b[37m\u001b[0m \u001b[1m8s\u001b[0m 4ms/step - accuracy: 0.9874 - loss: 0.0448 - val_accuracy: 0.8932 - val_loss: 0.4632\n",
      "Epoch 5/20\n",
      "\u001b[1m1922/1922\u001b[0m \u001b[32m━━━━━━━━━━━━━━━━━━━━\u001b[0m\u001b[37m\u001b[0m \u001b[1m6s\u001b[0m 3ms/step - accuracy: 0.9867 - loss: 0.0463 - val_accuracy: 0.8949 - val_loss: 0.5455\n",
      "Epoch 6/20\n",
      "\u001b[1m1922/1922\u001b[0m \u001b[32m━━━━━━━━━━━━━━━━━━━━\u001b[0m\u001b[37m\u001b[0m \u001b[1m10s\u001b[0m 5ms/step - accuracy: 0.9881 - loss: 0.0462 - val_accuracy: 0.8843 - val_loss: 0.5902\n",
      "Epoch 7/20\n",
      "\u001b[1m1922/1922\u001b[0m \u001b[32m━━━━━━━━━━━━━━━━━━━━\u001b[0m\u001b[37m\u001b[0m \u001b[1m10s\u001b[0m 5ms/step - accuracy: 0.9875 - loss: 0.0463 - val_accuracy: 0.8932 - val_loss: 0.7243\n",
      "Epoch 8/20\n",
      "\u001b[1m1922/1922\u001b[0m \u001b[32m━━━━━━━━━━━━━━━━━━━━\u001b[0m\u001b[37m\u001b[0m \u001b[1m7s\u001b[0m 3ms/step - accuracy: 0.9885 - loss: 0.0431 - val_accuracy: 0.8961 - val_loss: 0.5411\n",
      "Epoch 9/20\n",
      "\u001b[1m1922/1922\u001b[0m \u001b[32m━━━━━━━━━━━━━━━━━━━━\u001b[0m\u001b[37m\u001b[0m \u001b[1m9s\u001b[0m 5ms/step - accuracy: 0.9909 - loss: 0.0347 - val_accuracy: 0.8918 - val_loss: 0.6283\n",
      "Epoch 10/20\n",
      "\u001b[1m1922/1922\u001b[0m \u001b[32m━━━━━━━━━━━━━━━━━━━━\u001b[0m\u001b[37m\u001b[0m \u001b[1m10s\u001b[0m 5ms/step - accuracy: 0.9895 - loss: 0.0403 - val_accuracy: 0.8896 - val_loss: 0.5947\n",
      "Epoch 11/20\n",
      "\u001b[1m1922/1922\u001b[0m \u001b[32m━━━━━━━━━━━━━━━━━━━━\u001b[0m\u001b[37m\u001b[0m \u001b[1m10s\u001b[0m 5ms/step - accuracy: 0.9886 - loss: 0.0468 - val_accuracy: 0.8886 - val_loss: 0.5683\n",
      "Epoch 12/20\n",
      "\u001b[1m1922/1922\u001b[0m \u001b[32m━━━━━━━━━━━━━━━━━━━━\u001b[0m\u001b[37m\u001b[0m \u001b[1m6s\u001b[0m 3ms/step - accuracy: 0.9894 - loss: 0.0392 - val_accuracy: 0.8900 - val_loss: 0.6813\n",
      "Epoch 13/20\n",
      "\u001b[1m1922/1922\u001b[0m \u001b[32m━━━━━━━━━━━━━━━━━━━━\u001b[0m\u001b[37m\u001b[0m \u001b[1m9s\u001b[0m 5ms/step - accuracy: 0.9901 - loss: 0.0370 - val_accuracy: 0.8918 - val_loss: 0.6577\n",
      "Epoch 14/20\n",
      "\u001b[1m1922/1922\u001b[0m \u001b[32m━━━━━━━━━━━━━━━━━━━━\u001b[0m\u001b[37m\u001b[0m \u001b[1m9s\u001b[0m 4ms/step - accuracy: 0.9903 - loss: 0.0395 - val_accuracy: 0.8813 - val_loss: 0.8026\n",
      "Epoch 15/20\n",
      "\u001b[1m1922/1922\u001b[0m \u001b[32m━━━━━━━━━━━━━━━━━━━━\u001b[0m\u001b[37m\u001b[0m \u001b[1m7s\u001b[0m 3ms/step - accuracy: 0.9900 - loss: 0.0409 - val_accuracy: 0.8860 - val_loss: 0.7163\n",
      "Epoch 16/20\n",
      "\u001b[1m1922/1922\u001b[0m \u001b[32m━━━━━━━━━━━━━━━━━━━━\u001b[0m\u001b[37m\u001b[0m \u001b[1m10s\u001b[0m 5ms/step - accuracy: 0.9898 - loss: 0.0396 - val_accuracy: 0.8858 - val_loss: 0.7018\n",
      "Epoch 17/20\n",
      "\u001b[1m1922/1922\u001b[0m \u001b[32m━━━━━━━━━━━━━━━━━━━━\u001b[0m\u001b[37m\u001b[0m \u001b[1m11s\u001b[0m 6ms/step - accuracy: 0.9887 - loss: 0.0474 - val_accuracy: 0.8878 - val_loss: 0.7219\n",
      "Epoch 18/20\n",
      "\u001b[1m1922/1922\u001b[0m \u001b[32m━━━━━━━━━━━━━━━━━━━━\u001b[0m\u001b[37m\u001b[0m \u001b[1m8s\u001b[0m 4ms/step - accuracy: 0.9906 - loss: 0.0376 - val_accuracy: 0.8904 - val_loss: 0.7340\n",
      "Epoch 19/20\n",
      "\u001b[1m1922/1922\u001b[0m \u001b[32m━━━━━━━━━━━━━━━━━━━━\u001b[0m\u001b[37m\u001b[0m \u001b[1m9s\u001b[0m 4ms/step - accuracy: 0.9910 - loss: 0.0366 - val_accuracy: 0.8939 - val_loss: 0.6139\n",
      "Epoch 20/20\n",
      "\u001b[1m1922/1922\u001b[0m \u001b[32m━━━━━━━━━━━━━━━━━━━━\u001b[0m\u001b[37m\u001b[0m \u001b[1m8s\u001b[0m 4ms/step - accuracy: 0.9898 - loss: 0.0416 - val_accuracy: 0.8894 - val_loss: 0.7494\n"
     ]
    }
   ],
   "source": [
    "history = model.fit(\n",
    "    X_train, y_train,\n",
    "    epochs=20,\n",
    "    batch_size=32,\n",
    "    validation_data=(X_test, y_test)\n",
    ")"
   ]
  },
  {
   "cell_type": "markdown",
   "id": "21806d12",
   "metadata": {},
   "source": [
    "## Plot the training and validation accuracy"
   ]
  },
  {
   "cell_type": "code",
   "execution_count": 24,
   "id": "9ec3c56a",
   "metadata": {},
   "outputs": [
    {
     "name": "stdout",
     "output_type": "stream",
     "text": [
      "\n",
      "✅ Test Accuracy: 0.8894\n"
     ]
    },
    {
     "data": {
      "image/png": "[encoded data removed]",
      "text/plain": [
       "<Figure size 800x500 with 1 Axes>"
      ]
     },
     "metadata": {},
     "output_type": "display_data"
    }
   ],
   "source": [
    "test_loss, test_acc = model.evaluate(X_test, y_test, verbose=0)\n",
    "print(f\"\\n✅ Test Accuracy: {test_acc:.4f}\")\n",
    "\n",
    "# Plot training history\n",
    "plt.figure(figsize=(8,5))\n",
    "plt.plot(history.history['accuracy'], label=\"Train Accuracy\")\n",
    "plt.plot(history.history['val_accuracy'], label=\"Val Accuracy\")\n",
    "plt.xlabel(\"No of Epochs\")\n",
    "plt.ylabel(\"Accuracy\")\n",
    "plt.title(\"Training Accuracy\")\n",
    "plt.legend()\n",
    "plt.show()"
   ]
  },
  {
   "cell_type": "markdown",
   "id": "74caafff",
   "metadata": {},
   "source": [
    "## Predict and plot the image with label\n"
   ]
  },
  {
   "cell_type": "code",
   "execution_count": null,
   "id": "d30b5a5a",
   "metadata": {},
   "outputs": [
    {
     "data": {
      "image/png": "[encoded data removed]",
      "text/plain": [
       "<Figure size 2000x1500 with 20 Axes>"
      ]
     },
     "metadata": {},
     "output_type": "display_data"
    }
   ],
   "source": [
    "\n",
    "plt.figure(figsize=(20,15))\n",
    "n_show = min(20, len(X_test))  # show up to 20 images\n",
    "rows, cols = 5, 4\n",
    "\n",
    "for i in range(n_show):\n",
    "    plt.subplot(rows, cols, i+1)\n",
    "    \n",
    "    # Prepare the image for prediction\n",
    "    sample = X_test[i].reshape(1, 28, 28, 1)\n",
    "    \n",
    "    # Predict label\n",
    "    pred = model.predict(sample, verbose=0).argmax(axis=1)[0]\n",
    "    true_label = y_test[i]  # actual label\n",
    "    \n",
    "    # Set title with True vs Predicted\n",
    "    plt.title(f\"T: {true_label} | P: {pred}\", fontsize=14, color=(\"green\" if pred==true_label else \"red\"))\n",
    "    \n",
    "    # Show image\n",
    "    plt.imshow(X_test[i], cmap=\"gray\")\n",
    "    plt.axis('off')\n",
    "\n",
    "plt.tight_layout()\n",
    "plt.show()"
   ]
  }
 ],
 "metadata": {
  "kernelspec": {
   "display_name": "tf_env",
   "language": "python",
   "name": "python3"
  },
  "language_info": {
   "codemirror_mode": {
    "name": "ipython",
    "version": 3
   },
   "file_extension": ".py",
   "mimetype": "text/x-python",
   "name": "python",
   "nbconvert_exporter": "python",
   "pygments_lexer": "ipython3",
   "version": "3.10.18"
  }
 },
 "nbformat": 4,
 "nbformat_minor": 5
}
