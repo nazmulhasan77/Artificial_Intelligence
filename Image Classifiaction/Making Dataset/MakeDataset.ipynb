{
 "cells": [
  {
   "cell_type": "code",
   "execution_count": 2,
   "id": "bcad8d94",
   "metadata": {},
   "outputs": [
    {
     "name": "stdout",
     "output_type": "stream",
     "text": [
      "✅ Done! Extracted 121 digits into digits_28x28 and zipped into digits_28x28.zip\n"
     ]
    }
   ],
   "source": [
    "import cv2\n",
    "import numpy as np\n",
    "from PIL import Image\n",
    "import os\n",
    "import zipfile\n",
    "\n",
    "# ========= CONFIG =========\n",
    "INPUT_IMAGE = \"digits_sheet.JPG\"   # <-- replace with your file name\n",
    "OUTPUT_DIR = \"digits_28x28\"\n",
    "ZIP_NAME = \"digits_28x28.zip\"\n",
    "# ==========================\n",
    "\n",
    "# Create output directory\n",
    "os.makedirs(OUTPUT_DIR, exist_ok=True)\n",
    "\n",
    "# Load image in grayscale\n",
    "img = cv2.imread(INPUT_IMAGE, cv2.IMREAD_GRAYSCALE)\n",
    "\n",
    "# Threshold (black digits on white background)\n",
    "_, thresh = cv2.threshold(img, 128, 255, cv2.THRESH_BINARY_INV)\n",
    "\n",
    "# Find contours (digits)\n",
    "contours, _ = cv2.findContours(thresh, cv2.RETR_EXTERNAL, cv2.CHAIN_APPROX_SIMPLE)\n",
    "\n",
    "# Sort contours row by row, left to right\n",
    "contours = sorted(contours, key=lambda c: (cv2.boundingRect(c)[1]//50, cv2.boundingRect(c)[0]))\n",
    "\n",
    "idx = 0\n",
    "for c in contours:\n",
    "    x, y, w, h = cv2.boundingRect(c)\n",
    "    \n",
    "    # Skip tiny noise\n",
    "    if w < 5 or h < 5:\n",
    "        continue\n",
    "    \n",
    "    digit = thresh[y:y+h, x:x+w]\n",
    "\n",
    "    # Resize digit to 20x20\n",
    "    digit_resized = cv2.resize(digit, (20, 20), interpolation=cv2.INTER_AREA)\n",
    "    \n",
    "    # Pad to 28x28\n",
    "    padded = np.pad(digit_resized, ((4,4),(4,4)), \"constant\", constant_values=0)\n",
    "    \n",
    "    # Save each digit\n",
    "    out_path = os.path.join(OUTPUT_DIR, f\"digit_{idx:03d}.jpg\")\n",
    "    Image.fromarray(padded).save(out_path)\n",
    "    idx += 1\n",
    "\n",
    "# Create ZIP file\n",
    "with zipfile.ZipFile(ZIP_NAME, 'w') as zipf:\n",
    "    for file in os.listdir(OUTPUT_DIR):\n",
    "        zipf.write(os.path.join(OUTPUT_DIR, file), file)\n",
    "\n",
    "print(f\"✅ Done! Extracted {idx} digits into {OUTPUT_DIR} and zipped into {ZIP_NAME}\")\n"
   ]
  }
 ],
 "metadata": {
  "kernelspec": {
   "display_name": "tf_env",
   "language": "python",
   "name": "python3"
  },
  "language_info": {
   "codemirror_mode": {
    "name": "ipython",
    "version": 3
   },
   "file_extension": ".py",
   "mimetype": "text/x-python",
   "name": "python",
   "nbconvert_exporter": "python",
   "pygments_lexer": "ipython3",
   "version": "3.10.18"
  }
 },
 "nbformat": 4,
 "nbformat_minor": 5
}
