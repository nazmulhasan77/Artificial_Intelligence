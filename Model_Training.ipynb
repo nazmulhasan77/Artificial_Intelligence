{
  "cells": [
    {
      "cell_type": "code",
      "execution_count": 1,
      "metadata": {
        "id": "IjK-27RIsfU1"
      },
      "outputs": [
        {
          "name": "stderr",
          "output_type": "stream",
          "text": [
            "2025-08-29 15:32:32.962792: E tensorflow/compiler/xla/stream_executor/cuda/cuda_dnn.cc:9342] Unable to register cuDNN factory: Attempting to register factory for plugin cuDNN when one has already been registered\n",
            "2025-08-29 15:32:32.962885: E tensorflow/compiler/xla/stream_executor/cuda/cuda_fft.cc:609] Unable to register cuFFT factory: Attempting to register factory for plugin cuFFT when one has already been registered\n",
            "2025-08-29 15:32:32.962954: E tensorflow/compiler/xla/stream_executor/cuda/cuda_blas.cc:1518] Unable to register cuBLAS factory: Attempting to register factory for plugin cuBLAS when one has already been registered\n",
            "2025-08-29 15:32:32.976898: I tensorflow/core/platform/cpu_feature_guard.cc:182] This TensorFlow binary is optimized to use available CPU instructions in performance-critical operations.\n",
            "To enable the following instructions: AVX2 FMA, in other operations, rebuild TensorFlow with the appropriate compiler flags.\n",
            "2025-08-29 15:32:34.624713: W tensorflow/compiler/tf2tensorrt/utils/py_utils.cc:38] TF-TRT Warning: Could not find TensorRT\n"
          ]
        }
      ],
      "source": [
        "import tensorflow as tf\n",
        "import numpy as np\n",
        "import matplotlib.pyplot as plt\n",
        "from sklearn.model_selection import train_test_split\n",
        "\n",
        "# 1. Generate data\n",
        "x = np.linspace(-10, 10, 500)          # 500 points for more data\n",
        "y = 5 * x**2 + 10 * x - 20             # Quadratic function\n",
        "\n",
        "# Reshape for TensorFlow\n",
        "x = x.reshape(-1, 1)\n",
        "y = y.reshape(-1, 1)\n",
        "\n",
        "\n"
      ]
    },
    {
      "cell_type": "code",
      "execution_count": 2,
      "metadata": {
        "colab": {
          "base_uri": "https://localhost:8080/"
        },
        "id": "3Sj1oKJL19oN",
        "outputId": "8542920f-1853-44cc-a07b-94a5765c44c4"
      },
      "outputs": [
        {
          "name": "stderr",
          "output_type": "stream",
          "text": [
            "2025-08-29 15:32:38.400770: I tensorflow/compiler/xla/stream_executor/cuda/cuda_gpu_executor.cc:880] could not open file to read NUMA node: /sys/bus/pci/devices/0000:01:00.0/numa_node\n",
            "Your kernel may have been built without NUMA support.\n",
            "2025-08-29 15:32:38.471176: W tensorflow/core/common_runtime/gpu/gpu_device.cc:2211] Cannot dlopen some GPU libraries. Please make sure the missing libraries mentioned above are installed properly if you would like to use GPU. Follow the guide at https://www.tensorflow.org/install/gpu for how to download and setup the required libraries for your platform.\n",
            "Skipping registering GPU devices...\n"
          ]
        }
      ],
      "source": [
        "# 2. Split dataset (shuffle=True)\n",
        "x_train, x_test, y_train, y_test = train_test_split(x, y, test_size=0.2, shuffle=True, random_state=42)\n",
        "\n",
        "# 3. Build a deeper model (4 hidden layers)\n",
        "model = tf.keras.Sequential([\n",
        "    tf.keras.layers.Dense(128, activation='relu', input_shape=(1,)),\n",
        "    tf.keras.layers.Dense(128, activation='relu'),\n",
        "    tf.keras.layers.Dense(64, activation='relu'),\n",
        "    tf.keras.layers.Dense(32, activation='relu'),\n",
        "    tf.keras.layers.Dense(1)\n",
        "])\n"
      ]
    },
    {
      "cell_type": "code",
      "execution_count": 6,
      "metadata": {
        "colab": {
          "base_uri": "https://localhost:8080/"
        },
        "id": "MqC1z61D2EBz",
        "outputId": "32c24f7e-23a0-4c8e-f96f-4f8c6d899cd6"
      },
      "outputs": [
        {
          "name": "stdout",
          "output_type": "stream",
          "text": [
            "Epoch 1/50\n",
            "12/12 [==============================] - 1s 23ms/step - loss: 392.9415 - mse: 392.9415 - val_loss: 454.4788 - val_mse: 454.4788\n",
            "Epoch 2/50\n",
            "12/12 [==============================] - 0s 10ms/step - loss: 336.4243 - mse: 336.4243 - val_loss: 200.1655 - val_mse: 200.1655\n",
            "Epoch 3/50\n",
            "12/12 [==============================] - 0s 10ms/step - loss: 159.2450 - mse: 159.2450 - val_loss: 146.5295 - val_mse: 146.5295\n",
            "Epoch 4/50\n",
            "12/12 [==============================] - 0s 10ms/step - loss: 150.9283 - mse: 150.9283 - val_loss: 110.6980 - val_mse: 110.6980\n",
            "Epoch 5/50\n",
            "12/12 [==============================] - 0s 9ms/step - loss: 124.0056 - mse: 124.0056 - val_loss: 104.0034 - val_mse: 104.0034\n",
            "Epoch 6/50\n",
            "12/12 [==============================] - 0s 9ms/step - loss: 125.3870 - mse: 125.3870 - val_loss: 91.2467 - val_mse: 91.2467\n",
            "Epoch 7/50\n",
            "12/12 [==============================] - 0s 10ms/step - loss: 115.4096 - mse: 115.4096 - val_loss: 86.6521 - val_mse: 86.6521\n",
            "Epoch 8/50\n",
            "12/12 [==============================] - 0s 10ms/step - loss: 116.5451 - mse: 116.5451 - val_loss: 108.6506 - val_mse: 108.6506\n",
            "Epoch 9/50\n",
            "12/12 [==============================] - 0s 9ms/step - loss: 121.1124 - mse: 121.1124 - val_loss: 101.0445 - val_mse: 101.0445\n",
            "Epoch 10/50\n",
            "12/12 [==============================] - 0s 8ms/step - loss: 99.8558 - mse: 99.8558 - val_loss: 111.1609 - val_mse: 111.1609\n",
            "Epoch 11/50\n",
            "12/12 [==============================] - 0s 8ms/step - loss: 91.6470 - mse: 91.6470 - val_loss: 63.8163 - val_mse: 63.8163\n",
            "Epoch 12/50\n",
            "12/12 [==============================] - 0s 7ms/step - loss: 139.7319 - mse: 139.7319 - val_loss: 60.0400 - val_mse: 60.0400\n",
            "Epoch 13/50\n",
            "12/12 [==============================] - 0s 7ms/step - loss: 114.1250 - mse: 114.1250 - val_loss: 63.7261 - val_mse: 63.7261\n",
            "Epoch 14/50\n",
            "12/12 [==============================] - 0s 7ms/step - loss: 72.6310 - mse: 72.6310 - val_loss: 113.7904 - val_mse: 113.7904\n",
            "Epoch 15/50\n",
            "12/12 [==============================] - 0s 7ms/step - loss: 84.6399 - mse: 84.6399 - val_loss: 70.1769 - val_mse: 70.1769\n",
            "Epoch 16/50\n",
            "12/12 [==============================] - 0s 7ms/step - loss: 70.1897 - mse: 70.1897 - val_loss: 61.7819 - val_mse: 61.7819\n",
            "Epoch 17/50\n",
            "12/12 [==============================] - 0s 7ms/step - loss: 60.1227 - mse: 60.1227 - val_loss: 48.3608 - val_mse: 48.3608\n",
            "Epoch 18/50\n",
            "12/12 [==============================] - 0s 7ms/step - loss: 48.8354 - mse: 48.8354 - val_loss: 81.3679 - val_mse: 81.3679\n",
            "Epoch 19/50\n",
            "12/12 [==============================] - 0s 7ms/step - loss: 76.4702 - mse: 76.4702 - val_loss: 75.0596 - val_mse: 75.0596\n",
            "Epoch 20/50\n",
            "12/12 [==============================] - 0s 7ms/step - loss: 41.9641 - mse: 41.9641 - val_loss: 69.1872 - val_mse: 69.1872\n",
            "Epoch 21/50\n",
            "12/12 [==============================] - 0s 7ms/step - loss: 49.8890 - mse: 49.8890 - val_loss: 59.5462 - val_mse: 59.5462\n",
            "Epoch 22/50\n",
            "12/12 [==============================] - 0s 7ms/step - loss: 54.6202 - mse: 54.6202 - val_loss: 30.3624 - val_mse: 30.3624\n",
            "Epoch 23/50\n",
            "12/12 [==============================] - 0s 7ms/step - loss: 38.0040 - mse: 38.0040 - val_loss: 39.3313 - val_mse: 39.3313\n",
            "Epoch 24/50\n",
            "12/12 [==============================] - 0s 7ms/step - loss: 42.6346 - mse: 42.6346 - val_loss: 42.6075 - val_mse: 42.6075\n",
            "Epoch 25/50\n",
            "12/12 [==============================] - 0s 7ms/step - loss: 36.0355 - mse: 36.0355 - val_loss: 30.0354 - val_mse: 30.0354\n",
            "Epoch 26/50\n",
            "12/12 [==============================] - 0s 7ms/step - loss: 36.7392 - mse: 36.7392 - val_loss: 34.0656 - val_mse: 34.0656\n",
            "Epoch 27/50\n",
            "12/12 [==============================] - 0s 7ms/step - loss: 25.1980 - mse: 25.1980 - val_loss: 44.1334 - val_mse: 44.1334\n",
            "Epoch 28/50\n",
            "12/12 [==============================] - 0s 7ms/step - loss: 20.5847 - mse: 20.5847 - val_loss: 19.8858 - val_mse: 19.8858\n",
            "Epoch 29/50\n",
            "12/12 [==============================] - 0s 7ms/step - loss: 19.3952 - mse: 19.3952 - val_loss: 26.9221 - val_mse: 26.9221\n",
            "Epoch 30/50\n",
            "12/12 [==============================] - 0s 9ms/step - loss: 16.3190 - mse: 16.3190 - val_loss: 36.9768 - val_mse: 36.9768\n",
            "Epoch 31/50\n",
            "12/12 [==============================] - 0s 7ms/step - loss: 28.2390 - mse: 28.2390 - val_loss: 24.8003 - val_mse: 24.8003\n",
            "Epoch 32/50\n",
            "12/12 [==============================] - 0s 8ms/step - loss: 18.4467 - mse: 18.4467 - val_loss: 17.9379 - val_mse: 17.9379\n",
            "Epoch 33/50\n",
            "12/12 [==============================] - 0s 6ms/step - loss: 12.4058 - mse: 12.4058 - val_loss: 15.7010 - val_mse: 15.7010\n",
            "Epoch 34/50\n",
            "12/12 [==============================] - 0s 7ms/step - loss: 10.7945 - mse: 10.7945 - val_loss: 15.9419 - val_mse: 15.9419\n",
            "Epoch 35/50\n",
            "12/12 [==============================] - 0s 7ms/step - loss: 9.6125 - mse: 9.6125 - val_loss: 16.2300 - val_mse: 16.2300\n",
            "Epoch 36/50\n",
            "12/12 [==============================] - 0s 7ms/step - loss: 11.2068 - mse: 11.2068 - val_loss: 13.4079 - val_mse: 13.4079\n",
            "Epoch 37/50\n",
            "12/12 [==============================] - 0s 7ms/step - loss: 11.1663 - mse: 11.1663 - val_loss: 16.6238 - val_mse: 16.6238\n",
            "Epoch 38/50\n",
            "12/12 [==============================] - 0s 8ms/step - loss: 10.5713 - mse: 10.5713 - val_loss: 11.6684 - val_mse: 11.6684\n",
            "Epoch 39/50\n",
            "12/12 [==============================] - 0s 7ms/step - loss: 14.0249 - mse: 14.0249 - val_loss: 25.6411 - val_mse: 25.6411\n",
            "Epoch 40/50\n",
            "12/12 [==============================] - 0s 7ms/step - loss: 13.4404 - mse: 13.4404 - val_loss: 21.6080 - val_mse: 21.6080\n",
            "Epoch 41/50\n",
            "12/12 [==============================] - 0s 7ms/step - loss: 15.3899 - mse: 15.3899 - val_loss: 16.5918 - val_mse: 16.5918\n",
            "Epoch 42/50\n",
            "12/12 [==============================] - 0s 7ms/step - loss: 9.4347 - mse: 9.4347 - val_loss: 10.4072 - val_mse: 10.4072\n",
            "Epoch 43/50\n",
            "12/12 [==============================] - 0s 7ms/step - loss: 7.9133 - mse: 7.9133 - val_loss: 11.6502 - val_mse: 11.6502\n",
            "Epoch 44/50\n",
            "12/12 [==============================] - 0s 7ms/step - loss: 7.0239 - mse: 7.0239 - val_loss: 9.0891 - val_mse: 9.0891\n",
            "Epoch 45/50\n",
            "12/12 [==============================] - 0s 7ms/step - loss: 7.7209 - mse: 7.7209 - val_loss: 9.6035 - val_mse: 9.6035\n",
            "Epoch 46/50\n",
            "12/12 [==============================] - 0s 6ms/step - loss: 6.1052 - mse: 6.1052 - val_loss: 13.9558 - val_mse: 13.9558\n",
            "Epoch 47/50\n",
            "12/12 [==============================] - 0s 7ms/step - loss: 11.3090 - mse: 11.3090 - val_loss: 8.1176 - val_mse: 8.1176\n",
            "Epoch 48/50\n",
            "12/12 [==============================] - 0s 7ms/step - loss: 5.4181 - mse: 5.4181 - val_loss: 19.1914 - val_mse: 19.1914\n",
            "Epoch 49/50\n",
            "12/12 [==============================] - 0s 7ms/step - loss: 15.0346 - mse: 15.0346 - val_loss: 10.1567 - val_mse: 10.1567\n",
            "Epoch 50/50\n",
            "12/12 [==============================] - 0s 6ms/step - loss: 6.0957 - mse: 6.0957 - val_loss: 7.5565 - val_mse: 7.5565\n"
          ]
        }
      ],
      "source": [
        "\n",
        "# 4. Compile the model\n",
        "model.compile(optimizer='adam', loss='mse', metrics=['mse'])\n",
        "\n",
        "# 5. Train the model\n",
        "history = model.fit(x_train, y_train, validation_split=0.1, epochs=50, batch_size=32)\n",
        "\n"
      ]
    },
    {
      "cell_type": "code",
      "execution_count": null,
      "metadata": {},
      "outputs": [],
      "source": []
    },
    {
      "cell_type": "code",
      "execution_count": 4,
      "metadata": {
        "colab": {
          "base_uri": "https://localhost:8080/"
        },
        "id": "7U_sYeKU3jVE",
        "outputId": "0314890c-8b88-49e0-fd18-e0fe384779bb"
      },
      "outputs": [
        {
          "ename": "NameError",
          "evalue": "name 'y_pred' is not defined",
          "output_type": "error",
          "traceback": [
            "\u001b[0;31m---------------------------------------------------------------------------\u001b[0m",
            "\u001b[0;31mNameError\u001b[0m                                 Traceback (most recent call last)",
            "Cell \u001b[0;32mIn[4], line 5\u001b[0m\n\u001b[1;32m      2\u001b[0m tolerance \u001b[38;5;241m=\u001b[39m \u001b[38;5;241m5\u001b[39m\n\u001b[1;32m      4\u001b[0m \u001b[38;5;66;03m# Compute approximate accuracy\u001b[39;00m\n\u001b[0;32m----> 5\u001b[0m accuracy \u001b[38;5;241m=\u001b[39m np\u001b[38;5;241m.\u001b[39mmean(np\u001b[38;5;241m.\u001b[39mabs(y_test \u001b[38;5;241m-\u001b[39m \u001b[43my_pred\u001b[49m) \u001b[38;5;241m<\u001b[39m\u001b[38;5;241m=\u001b[39m tolerance)\n\u001b[1;32m      6\u001b[0m \u001b[38;5;28mprint\u001b[39m(\u001b[38;5;124mf\u001b[39m\u001b[38;5;124m\"\u001b[39m\u001b[38;5;124mApproximate accuracy within ±\u001b[39m\u001b[38;5;132;01m{\u001b[39;00mtolerance\u001b[38;5;132;01m}\u001b[39;00m\u001b[38;5;124m: \u001b[39m\u001b[38;5;132;01m{\u001b[39;00maccuracy\u001b[38;5;241m*\u001b[39m\u001b[38;5;241m100\u001b[39m\u001b[38;5;132;01m:\u001b[39;00m\u001b[38;5;124m.2f\u001b[39m\u001b[38;5;132;01m}\u001b[39;00m\u001b[38;5;124m%\u001b[39m\u001b[38;5;124m\"\u001b[39m)\n",
            "\u001b[0;31mNameError\u001b[0m: name 'y_pred' is not defined"
          ]
        }
      ],
      "source": [
        "# Define a tolerance for “accuracy”\n",
        "tolerance = 5\n",
        "\n",
        "# Compute approximate accuracy\n",
        "accuracy = np.mean(np.abs(y_test - y_pred) <= tolerance)\n",
        "print(f\"Approximate accuracy within ±{tolerance}: {accuracy*100:.2f}%\")"
      ]
    },
    {
      "cell_type": "code",
      "execution_count": 5,
      "metadata": {
        "colab": {
          "base_uri": "https://localhost:8080/",
          "height": 633
        },
        "id": "sy0Ry-3G2HRD",
        "outputId": "872fc1c7-a016-43e9-93df-5c582c84b8bd"
      },
      "outputs": [
        {
          "name": "stdout",
          "output_type": "stream",
          "text": [
            "4/4 [==============================] - 0s 3ms/step\n"
          ]
        },
        {
          "data": {
            "image/png": "[encoded data removed]",
            "text/plain": [
              "<Figure size 1000x600 with 1 Axes>"
            ]
          },
          "metadata": {},
          "output_type": "display_data"
        },
        {
          "name": "stdout",
          "output_type": "stream",
          "text": [
            "4/4 [==============================] - 0s 4ms/step - loss: 275.4804 - mse: 275.4804\n",
            "\n",
            "Test Mean Squared Error: 275.4804\n"
          ]
        }
      ],
      "source": [
        "\n",
        "# 6. Predict on test data\n",
        "y_pred = model.predict(x_test)\n",
        "\n",
        "# 8. Plot original vs predicted\n",
        "plt.figure(figsize=(10,6))\n",
        "plt.scatter(x_test, y_test, color='blue', label='True')\n",
        "plt.scatter(x_test, y_pred, color='red', label='Predicted', alpha=0.6)\n",
        "plt.xlabel('x')\n",
        "plt.ylabel('y')\n",
        "plt.legend()\n",
        "plt.title('Original vs Predicted')\n",
        "plt.show()\n",
        "\n",
        "# 9. Evaluate the model\n",
        "test_loss = model.evaluate(x_test, y_test)\n",
        "print(f\"\\nTest Mean Squared Error: {test_loss[0]:.4f}\")\n"
      ]
    },
    {
      "cell_type": "code",
      "execution_count": null,
      "metadata": {},
      "outputs": [
        {
          "name": "stdout",
          "output_type": "stream",
          "text": [
            "Model: \"model\"\n",
            "____________________________________________________________________________\n",
            " Layer (type)                Output Shape              Param #   Trainable  \n",
            "============================================================================\n",
            " input_1 (InputLayer)        [(None, 1)]               0         Y          \n",
            "                                                                            \n",
            " Hidden_Layer_1 (Dense)      (None, 8)                 16        Y          \n",
            "                                                                            \n",
            " Hidden_Layer_2 (Dense)      (None, 16)                144       Y          \n",
            "                                                                            \n",
            " Hidden_Layer_3 (Dense)      (None, 64)                1088      Y          \n",
            "                                                                            \n",
            " Hidden_Layer_4 (Dense)      (None, 128)               8320      Y          \n",
            "                                                                            \n",
            " Hidden_Layer_5 (Dense)      (None, 32)                4128      Y          \n",
            "                                                                            \n",
            " Hidden_Layer_6 (Dense)      (None, 8)                 264       Y          \n",
            "                                                                            \n",
            " Output_Layer (Dense)        (None, 1)                 9         Y          \n",
            "                                                                            \n",
            "============================================================================\n",
            "Total params: 13969 (54.57 KB)\n",
            "Trainable params: 13969 (54.57 KB)\n",
            "Non-trainable params: 0 (0.00 Byte)\n",
            "____________________________________________________________________________\n",
            "Epoch 1/200\n",
            "219/219 [==============================] - 3s 6ms/step - loss: 296558464.0000 - val_loss: 33209882.0000\n",
            "Epoch 2/200\n",
            "219/219 [==============================] - 1s 4ms/step - loss: 32296962.0000 - val_loss: 30633216.0000\n",
            "Epoch 3/200\n",
            "219/219 [==============================] - 1s 4ms/step - loss: 29209954.0000 - val_loss: 27424496.0000\n",
            "Epoch 4/200\n",
            "219/219 [==============================] - 1s 4ms/step - loss: 25886298.0000 - val_loss: 24421256.0000\n",
            "Epoch 5/200\n",
            "219/219 [==============================] - 1s 3ms/step - loss: 20955790.0000 - val_loss: 16142735.0000\n",
            "Epoch 6/200\n",
            "219/219 [==============================] - 1s 4ms/step - loss: 10910280.0000 - val_loss: 5572523.0000\n",
            "Epoch 7/200\n",
            "219/219 [==============================] - 1s 4ms/step - loss: 3575958.5000 - val_loss: 1967744.8750\n",
            "Epoch 8/200\n",
            "219/219 [==============================] - 1s 4ms/step - loss: 1308280.3750 - val_loss: 740570.6250\n",
            "Epoch 9/200\n",
            "219/219 [==============================] - 1s 4ms/step - loss: 541377.5625 - val_loss: 295946.6562\n",
            "Epoch 10/200\n",
            "219/219 [==============================] - 1s 4ms/step - loss: 288946.0938 - val_loss: 178172.8750\n",
            "Epoch 11/200\n",
            "219/219 [==============================] - 1s 4ms/step - loss: 165516.9531 - val_loss: 126105.9375\n",
            "Epoch 12/200\n",
            "219/219 [==============================] - 1s 4ms/step - loss: 113718.2109 - val_loss: 99376.6797\n",
            "Epoch 13/200\n",
            "219/219 [==============================] - 1s 4ms/step - loss: 74749.4141 - val_loss: 54329.4648\n",
            "Epoch 14/200\n",
            "219/219 [==============================] - 1s 4ms/step - loss: 56798.1094 - val_loss: 37554.7891\n",
            "Epoch 15/200\n",
            "219/219 [==============================] - 1s 4ms/step - loss: 54880.6523 - val_loss: 23046.6719\n",
            "Epoch 16/200\n",
            "219/219 [==============================] - 1s 4ms/step - loss: 37342.1953 - val_loss: 68737.5234\n",
            "Epoch 17/200\n",
            "219/219 [==============================] - 1s 4ms/step - loss: 34146.6133 - val_loss: 62704.0430\n",
            "Epoch 18/200\n",
            "219/219 [==============================] - 1s 4ms/step - loss: 22535.5586 - val_loss: 13330.1494\n",
            "Epoch 19/200\n",
            "219/219 [==============================] - 1s 4ms/step - loss: 20510.9238 - val_loss: 11399.6094\n",
            "Epoch 20/200\n",
            "219/219 [==============================] - 1s 4ms/step - loss: 16601.0977 - val_loss: 13278.9824\n",
            "Epoch 21/200\n",
            " 75/219 [=========>....................] - ETA: 0s - loss: 14329.3301"
          ]
        }
      ],
      "source": [
        "from tensorflow.keras.layers import Input, Dense\n",
        "from tensorflow.keras import Model\n",
        "import numpy as np\n",
        "import matplotlib.pyplot as plt\n",
        "\n",
        "# Polynomial function\n",
        "def my_polynomial(x):\n",
        "    return 5 * (x ** 2) + 10 * x - 2\n",
        "\n",
        "# Generate dataset\n",
        "def data_process():\n",
        "    n = 10000\n",
        "    x = np.random.randint(0, 100, n)  # Random integers 0-99\n",
        "    y = my_polynomial(x)\n",
        "    x = x.reshape(-1, 1)  # Make it 2D for Keras\n",
        "    y = y.reshape(-1, 1)\n",
        "    return x, y\n",
        "\n",
        "# Split dataset\n",
        "def prepare_train_test_val():\n",
        "    x, y = data_process()\n",
        "    total_n = len(x)\n",
        "    train_n = int(total_n * 0.7)\n",
        "    val_n = int(total_n * 0.1)\n",
        "\n",
        "    trainX = x[:train_n]\n",
        "    trainY = y[:train_n]\n",
        "\n",
        "    valX = x[train_n:train_n+val_n]\n",
        "    valY = y[train_n:train_n+val_n]\n",
        "\n",
        "    testX = x[train_n+val_n:]\n",
        "    testY = y[train_n+val_n:]\n",
        "\n",
        "    return (trainX, trainY), (valX, valY), (testX, testY)\n",
        "\n",
        "# Build the model\n",
        "def build_model():\n",
        "    inputs = Input((1,))\n",
        "    h1 = Dense(8, activation='relu', name='Hidden_Layer_1')(inputs)\n",
        "    h2 = Dense(16, activation='relu', name='Hidden_Layer_2')(h1)\n",
        "    h3 = Dense(64, activation='relu', name='Hidden_Layer_3')(h2)\n",
        "    h4 = Dense(128, activation='relu', name='Hidden_Layer_4')(h3)\n",
        "    h5 = Dense(32, activation='relu', name='Hidden_Layer_5')(h4)\n",
        "    h6 = Dense(8, activation='relu', name='Hidden_Layer_6')(h5)\n",
        "    outputs = Dense(1, name='Output_Layer')(h6)\n",
        "    \n",
        "    model = Model(inputs, outputs)\n",
        "    model.summary(show_trainable=True)\n",
        "    return model\n",
        "\n",
        "# Main function\n",
        "def main():\n",
        "    model = build_model()\n",
        "    model.compile(optimizer='adam', loss='mse')\n",
        "\n",
        "    (trainX, trainY), (valX, valY), (testX, testY) = prepare_train_test_val()\n",
        "\n",
        "    # Train the model\n",
        "    history = model.fit(trainX, trainY, validation_data=(valX, valY), epochs=200, batch_size=32, verbose=1)\n",
        "\n",
        "    # Evaluate on test data\n",
        "    test_loss = model.evaluate(testX, testY)\n",
        "    print(f\"\\nTest Mean Squared Error: {test_loss:.4f}\")\n",
        "\n",
        "    # Predict on test data\n",
        "    y_pred = model.predict(testX)\n",
        "\n",
        "    # Plot original vs predicted\n",
        "    plt.figure(figsize=(8,5))\n",
        "    plt.scatter(testX, testY, label=\"Original f(x)\", alpha=0.6)\n",
        "    plt.scatter(testX, y_pred, label=\"Predicted f(x)\", alpha=0.6)\n",
        "    plt.xlabel(\"x\")\n",
        "    plt.ylabel(\"f(x)\")\n",
        "    plt.title(\"Original vs Predicted Function\")\n",
        "    plt.legend()\n",
        "    plt.savefig(\"fx_prediction.png\", dpi=300)  # save for LaTeX\n",
        "    plt.show()\n",
        "\n",
        "    # Plot training history\n",
        "    plt.figure(figsize=(8,5))\n",
        "    plt.plot(history.history['loss'], label=\"Train Loss\")\n",
        "    plt.plot(history.history['val_loss'], label=\"Validation Loss\")\n",
        "    plt.xlabel(\"Epochs\")\n",
        "    plt.ylabel(\"MSE Loss\")\n",
        "    plt.title(\"Training History\")\n",
        "    plt.legend()\n",
        "    plt.savefig(\"training_history.png\", dpi=300)\n",
        "    plt.show()\n",
        "\n",
        "if __name__ == '__main__':\n",
        "    main()\n"
      ]
    }
  ],
  "metadata": {
    "accelerator": "GPU",
    "colab": {
      "gpuType": "T4",
      "provenance": []
    },
    "kernelspec": {
      "display_name": "tf_env",
      "language": "python",
      "name": "python3"
    },
    "language_info": {
      "codemirror_mode": {
        "name": "ipython",
        "version": 3
      },
      "file_extension": ".py",
      "mimetype": "text/x-python",
      "name": "python",
      "nbconvert_exporter": "python",
      "pygments_lexer": "ipython3",
      "version": "3.10.18"
    }
  },
  "nbformat": 4,
  "nbformat_minor": 0
}
